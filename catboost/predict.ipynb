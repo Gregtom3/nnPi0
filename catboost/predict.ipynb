{
 "cells": [
  {
   "cell_type": "code",
   "execution_count": 1,
   "id": "fifteen-spirituality",
   "metadata": {},
   "outputs": [
    {
     "name": "stdout",
     "output_type": "stream",
     "text": [
      "Welcome to JupyROOT 6.22/06\n"
     ]
    },
    {
     "name": "stderr",
     "output_type": "stream",
     "text": [
      "Matplotlib created a temporary config/cache directory at /tmp/matplotlib-1ibu_txp because the default path (/home/jovyan/.cache/matplotlib) is not a writable directory; it is highly recommended to set the MPLCONFIGDIR environment variable to a writable directory, in particular to speed up the import of Matplotlib and to better support multiprocessing.\n"
     ]
    }
   ],
   "source": [
    "import catboost\n",
    "from catboost import CatBoostClassifier\n",
    "import ROOT\n",
    "import numpy as np\n",
    "import uproot\n",
    "import matplotlib.pyplot as plt"
   ]
  },
  {
   "cell_type": "code",
   "execution_count": 2,
   "id": "grateful-duncan",
   "metadata": {},
   "outputs": [],
   "source": [
    "def load_model(trained_model=\"\"):\n",
    "    from_file = CatBoostClassifier()\n",
    "    from_file.load_model(trained_model)\n",
    "    return from_file\n",
    "\n",
    "# def load_data(iev):\n",
    "#     keys = ['nPhotons',\n",
    "#             'nHadrons',\n",
    "#              'gE',\n",
    "#              'gTheta',\n",
    "#              'gPhi',\n",
    "#              'g_pcal_e',\n",
    "#              'g1_pcal_e',\n",
    "#              'g2_pcal_e',\n",
    "#              'g_pcal_du',\n",
    "#              'g_pcal_dv',\n",
    "#              'g_pcal_m2u',\n",
    "#              'g_pcal_m2v',\n",
    "#              'g_pcal_m3u',\n",
    "#              'g_pcal_m3v',\n",
    "#              'g1R',\n",
    "#              'g2R',\n",
    "#              'g1M',\n",
    "#              'g2M',\n",
    "#              'g1dE',\n",
    "#              'g2dE',\n",
    "#              'h1R',\n",
    "#              'h2R',\n",
    "#              'h1M',\n",
    "#              'h2M',\n",
    "#              'h1dE',\n",
    "#              'h2dE',\n",
    "#              'h1q',\n",
    "#              'h2q',\n",
    "#              'eR',\n",
    "#              'eM',\n",
    "#              'edE']\n",
    "    \n",
    "#     ret = []\n",
    "#     for key in keys:\n",
    "#         exec(\"ret.append(iev.{})\".format(key))\n",
    "    \n",
    "#     return ret\n",
    "\n",
    "def load_data(input_file):\n",
    "    keys = ['ievent','nPhotons',\n",
    "            'nHadrons',\n",
    "             'gE',\n",
    "             'gTheta',\n",
    "             'gPhi',\n",
    "             'g_pcal_e',\n",
    "             'g1_pcal_e',\n",
    "             'g2_pcal_e',\n",
    "             'g_pcal_du',\n",
    "             'g_pcal_dv',\n",
    "             'g_pcal_m2u',\n",
    "             'g_pcal_m2v',\n",
    "             'g_pcal_m3u',\n",
    "             'g_pcal_m3v',\n",
    "             'g1R',\n",
    "             'g2R',\n",
    "             'g1M',\n",
    "             'g2M',\n",
    "             'g1dE',\n",
    "             'g2dE',\n",
    "             'h1R',\n",
    "             'h2R',\n",
    "             'h1M',\n",
    "             'h2M',\n",
    "             'h1dE',\n",
    "             'h2dE',\n",
    "             'h1q',\n",
    "             'h2q',\n",
    "             'eR',\n",
    "             'eM',\n",
    "             'edE']\n",
    "    \n",
    "    t = uproot.open(input_file+\":PreProcessedEvents\")\n",
    "    data = t.arrays(keys,library=\"pd\")\n",
    "    return data\n",
    "\n",
    "def calc_diphotons(gVects):\n",
    "    N = len(gVects)\n",
    "    Mgg=[]\n",
    "    if(N<=1):\n",
    "        return Mgg\n",
    "    for i in range(N):\n",
    "        g1=gVects[i]\n",
    "        for j in range(i+1,N):\n",
    "            g2=gVects[j]\n",
    "            Mgg.append((g1+g2).M())\n",
    "            \n",
    "    return Mgg"
   ]
  },
  {
   "cell_type": "code",
   "execution_count": 3,
   "id": "excited-pierce",
   "metadata": {},
   "outputs": [],
   "source": [
    "f = ROOT.TFile(\"/volatile/clas12/users/gmat/clas12analysis.sidis.data/rga/ML/preprocess_catboost/MC_3051_0.root\",\"READ\")\n",
    "t = f.Get(\"PreProcessedEvents\")"
   ]
  },
  {
   "cell_type": "code",
   "execution_count": 4,
   "id": "graphic-agency",
   "metadata": {},
   "outputs": [],
   "source": [
    "X = load_data(\"/volatile/clas12/users/gmat/clas12analysis.sidis.data/rga/ML/preprocess_catboost/MC_3051_0.root\")\n",
    "\n",
    "model=load_model(\"models/test\")\n",
    "threshold=0.9\n",
    "\n",
    "X[\"prob\"]=model.predict_proba(X)[:,1]"
   ]
  },
  {
   "cell_type": "code",
   "execution_count": 68,
   "id": "continent-surprise",
   "metadata": {},
   "outputs": [
    {
     "name": "stdout",
     "output_type": "stream",
     "text": [
      "0 / 164191\n",
      "10000 / 164191\n",
      "20000 / 164191\n",
      "30000 / 164191\n",
      "40000 / 164191\n",
      "50000 / 164191\n",
      "60000 / 164191\n",
      "70000 / 164191\n",
      "80000 / 164191\n",
      "90000 / 164191\n",
      "100000 / 164191\n",
      "110000 / 164191\n",
      "120000 / 164191\n",
      "130000 / 164191\n",
      "140000 / 164191\n",
      "150000 / 164191\n",
      "160000 / 164191\n"
     ]
    }
   ],
   "source": [
    "\n",
    "\n",
    "\n",
    "\n",
    "current_ievent=0\n",
    "gVects_thresh=[]\n",
    "gVects_tot=[]\n",
    "Mdiphoton_tot=[]\n",
    "Mdiphoton_thresh=[]\n",
    "for i,iev in X.iterrows():\n",
    "    if(i==0):\n",
    "        current_ievent==iev.ievent\n",
    "    if(iev.ievent!=current_ievent): # Begin diphoton analysis\n",
    "        current_ievent=iev.ievent\n",
    "        Mdiphoton_thresh = Mdiphoton_thresh + calc_diphotons(gVects_thresh)\n",
    "        Mdiphoton_tot = Mdiphoton_tot + calc_diphotons(gVects_tot)\n",
    "        gVects_tot=[]\n",
    "        gVects_thresh=[]\n",
    "    if(iev.ievent==current_ievent): # event hasn't changed, keep accumulating particles\n",
    "        pred=iev.prob\n",
    "        th=iev.gTheta\n",
    "        phi=iev.gPhi\n",
    "        p=iev.gE\n",
    "        px=p*np.sin(th)*np.cos(phi)\n",
    "        py=p*np.sin(th)*np.sin(phi)\n",
    "        pz=p*np.cos(th)\n",
    "        gVects_tot.append(ROOT.TLorentzVector(px,py,pz,p))\n",
    "        if(pred>=threshold): # If this photon is likely signal, add to list\n",
    "            gVects_thresh.append(ROOT.TLorentzVector(px,py,pz,p))\n",
    "    if(i%10000==0):\n",
    "        print(i,\"/\",len(X))"
   ]
  },
  {
   "cell_type": "code",
   "execution_count": 71,
   "id": "damaged-order",
   "metadata": {},
   "outputs": [],
   "source": [
    "Mdiphoton_bkg = list(set(Mdiphoton_tot) - set(Mdiphoton_thresh))"
   ]
  },
  {
   "cell_type": "code",
   "execution_count": 77,
   "id": "noticed-maria",
   "metadata": {},
   "outputs": [
    {
     "data": {
      "text/plain": [
       "(array([ 7474., 12264., 11877.,  9310.,  6877.,  4779.,  3547.,  2670.,\n",
       "         2167.,  1863.,  1586.,  1410.,  1419.,  1346.,  1369.,  1360.,\n",
       "         1441.,  1382.,  1490.,  1508.,  1576.,  1677.,  1667.,  1802.,\n",
       "         1901.,  1930.,  1988.,  1942.,  2018.,  1909.,  1786.,  1689.,\n",
       "         1616.,  1601.,  1540.,  1474.,  1465.,  1417.,  1396.,  1342.,\n",
       "         1326.,  1243.,  1248.,  1203.,  1218.,  1173.,  1089.,  1124.,\n",
       "         1046.,  1029.]),\n",
       " array([0.   , 0.005, 0.01 , 0.015, 0.02 , 0.025, 0.03 , 0.035, 0.04 ,\n",
       "        0.045, 0.05 , 0.055, 0.06 , 0.065, 0.07 , 0.075, 0.08 , 0.085,\n",
       "        0.09 , 0.095, 0.1  , 0.105, 0.11 , 0.115, 0.12 , 0.125, 0.13 ,\n",
       "        0.135, 0.14 , 0.145, 0.15 , 0.155, 0.16 , 0.165, 0.17 , 0.175,\n",
       "        0.18 , 0.185, 0.19 , 0.195, 0.2  , 0.205, 0.21 , 0.215, 0.22 ,\n",
       "        0.225, 0.23 , 0.235, 0.24 , 0.245, 0.25 ]),\n",
       " [<matplotlib.patches.Polygon at 0x7f8ce5bbd490>])"
      ]
     },
     "execution_count": 77,
     "metadata": {},
     "output_type": "execute_result"
    },
    {
     "data": {
      "image/png": "[encoded data removed]",
      "text/plain": [
       "<Figure size 900x600 with 1 Axes>"
      ]
     },
     "metadata": {
      "needs_background": "light"
     },
     "output_type": "display_data"
    }
   ],
   "source": [
    "plt.figure(dpi=150)\n",
    "plt.hist(Mdiphoton_tot,bins=50,range=(0,0.25))\n",
    "plt.hist(Mdiphoton_thresh,bins=50,histtype=u'step',range=(0,0.25))\n",
    "plt.hist(Mdiphoton_bkg,bins=50,histtype=u'step',range=(0,0.25))"
   ]
  },
  {
   "cell_type": "code",
   "execution_count": 70,
   "id": "dominican-collaboration",
   "metadata": {},
   "outputs": [],
   "source": []
  },
  {
   "cell_type": "code",
   "execution_count": null,
   "id": "absent-jacob",
   "metadata": {},
   "outputs": [],
   "source": []
  }
 ],
 "metadata": {
  "kernelspec": {
   "display_name": "Python 3",
   "language": "python",
   "name": "python3"
  },
  "language_info": {
   "codemirror_mode": {
    "name": "ipython",
    "version": 3
   },
   "file_extension": ".py",
   "mimetype": "text/x-python",
   "name": "python",
   "nbconvert_exporter": "python",
   "pygments_lexer": "ipython3",
   "version": "3.8.6"
  }
 },
 "nbformat": 4,
 "nbformat_minor": 5
}
