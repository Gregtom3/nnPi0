{
 "cells": [
  {
   "cell_type": "code",
   "execution_count": null,
   "id": "mysterious-holly",
   "metadata": {},
   "outputs": [
    {
     "name": "stdout",
     "output_type": "stream",
     "text": [
      "Welcome to JupyROOT 6.22/06\n"
     ]
    },
    {
     "name": "stderr",
     "output_type": "stream",
     "text": [
      "Matplotlib created a temporary config/cache directory at /tmp/matplotlib-ahnt4q8b because the default path (/home/jovyan/.cache/matplotlib) is not a writable directory; it is highly recommended to set the MPLCONFIGDIR environment variable to a writable directory, in particular to speed up the import of Matplotlib and to better support multiprocessing.\n"
     ]
    }
   ],
   "source": [
    "import ROOT\n",
    "import pandas as pd\n",
    "import numpy as np\n",
    "import uproot\n",
    "import matplotlib.pyplot as plt\n",
    "import awkward as ak\n",
    "plt.style.use('science')\n",
    "plt.rcParams.update({\n",
    "    \"text.usetex\": True,\n",
    "    \"font.family\": \"Helvetica\"\n",
    "})\n",
    "from sklearn.model_selection import train_test_split\n",
    "from catboost import CatBoostClassifier, Pool, metrics, cv\n",
    "from sklearn.metrics import accuracy_score\n",
    "import catboost"
   ]
  },
  {
   "cell_type": "code",
   "execution_count": null,
   "id": "breeding-salad",
   "metadata": {},
   "outputs": [],
   "source": [
    "mcfile = \"/volatile/clas12/users/gmat/clas12analysis.sidis.data/rga/ML/preprocess_catboost/MC_3051_0.root\"\n",
    "#datafile = \"/volatile/clas12/users/gmat/clas12analysis.sidis.data/rga/nSidis/studysmallWithPP/run5032.root\""
   ]
  },
  {
   "cell_type": "code",
   "execution_count": null,
   "id": "deadly-clark",
   "metadata": {},
   "outputs": [],
   "source": [
    "# =====================================================\n",
    "#  GET DATASET FOR MACHINE LEARNING (EITHER MC OR DATA)\n",
    "# =====================================================\n",
    "def data(rootfile,version=\"\"):\n",
    "    assert(version==\"data\" or version==\"mc\")\n",
    "    \n",
    "    keys = ['flag',\n",
    "            'nPhotons',\n",
    "            'nHadrons',\n",
    "             'gE',\n",
    "             'gTheta',\n",
    "             'gPhi',\n",
    "             'g_pcal_e',\n",
    "             'g1_pcal_e',\n",
    "             'g2_pcal_e',\n",
    "             'g_pcal_du',\n",
    "             'g_pcal_dv',\n",
    "             'g_pcal_m2u',\n",
    "             'g_pcal_m2v',\n",
    "             'g_pcal_m3u',\n",
    "             'g_pcal_m3v',\n",
    "             'g1R',\n",
    "             'g2R',\n",
    "             'g1M',\n",
    "             'g2M',\n",
    "             'g1dE',\n",
    "             'g2dE',\n",
    "             'h1R',\n",
    "             'h2R',\n",
    "             'h1M',\n",
    "             'h2M',\n",
    "             'h1dE',\n",
    "             'h2dE',\n",
    "             'h1q',\n",
    "             'h2q',\n",
    "             'eR',\n",
    "             'eM',\n",
    "             'edE']\n",
    "    \n",
    "    df = pd.DataFrame(columns=keys)\n",
    "    for batch in uproot.iterate([\"{}:PreProcessedEvents\".format(rootfile)],library=\"pd\",step_size=1000):\n",
    "        tmpdf=pd.DataFrame(columns=keys)\n",
    "        for key in keys:\n",
    "            tmpdf[key]=batch[key]\n",
    "        df = pd.concat([df,tmpdf])\n",
    "\n",
    "    X = df.drop(\"flag\",axis=1)\n",
    "    if(version==\"data\"):\n",
    "        return X\n",
    "    \n",
    "    y=df[\"flag\"]\n",
    "    \n",
    "    X_train, X_validation, y_train, y_validation = train_test_split(X, y, train_size=0.75, random_state=42)\n",
    "    return X_train, X_validation, y_train, y_validation"
   ]
  },
  {
   "cell_type": "code",
   "execution_count": null,
   "id": "suspended-chapel",
   "metadata": {},
   "outputs": [],
   "source": [
    "X_train, X_validation, y_train, y_validation = data(mcfile,version=\"mc\")"
   ]
  },
  {
   "cell_type": "code",
   "execution_count": null,
   "id": "authorized-decade",
   "metadata": {},
   "outputs": [],
   "source": [
    "best_params={'learning_rate': 0.08400973275335084, 'depth': 3, 'l2_leaf_reg': 4.38, 'boosting_type': 'Plain'}\n",
    "\n",
    "numeric_train_pool = Pool(X_train, y_train)\n",
    "numeric_val_pool = Pool(X_validation, y_validation)\n",
    "\n",
    "model = CatBoostClassifier(**best_params,\n",
    "                            custom_loss=[metrics.Accuracy()], \n",
    "                            random_seed=42,\n",
    "                            task_type=\"GPU\",\n",
    "                            devices='0:1')\n",
    "model.fit(numeric_train_pool, verbose=1, eval_set=numeric_val_pool)"
   ]
  },
  {
   "cell_type": "code",
   "execution_count": 556,
   "id": "enormous-atlas",
   "metadata": {},
   "outputs": [],
   "source": [
    "model.save_model(\"models/test\")"
   ]
  },
  {
   "cell_type": "code",
   "execution_count": 557,
   "id": "minor-brief",
   "metadata": {},
   "outputs": [
    {
     "data": {
      "text/plain": [
       "<catboost.core.CatBoostClassifier at 0x7f21621cd7c0>"
      ]
     },
     "execution_count": 557,
     "metadata": {},
     "output_type": "execute_result"
    }
   ],
   "source": [
    "from_file = CatBoostClassifier()\n",
    "from_file.load_model(\"models/test\")"
   ]
  },
  {
   "cell_type": "code",
   "execution_count": null,
   "id": "viral-rendering",
   "metadata": {},
   "outputs": [],
   "source": []
  },
  {
   "cell_type": "code",
   "execution_count": 566,
   "id": "boolean-guinea",
   "metadata": {},
   "outputs": [
    {
     "data": {
      "text/plain": [
       "Text(0.5, 1.0, 'ROC Curve')"
      ]
     },
     "execution_count": 566,
     "metadata": {},
     "output_type": "execute_result"
    },
    {
     "data": {
      "image/png": "[encoded data removed]",
      "text/plain": [
       "<Figure size 525x393.75 with 1 Axes>"
      ]
     },
     "metadata": {
      "needs_background": "light"
     },
     "output_type": "display_data"
    }
   ],
   "source": [
    "from catboost.utils import get_roc_curve, select_threshold, get_fpr_curve\n",
    "roc_curve_values=get_roc_curve(model,Pool(X_validation,y_validation))\n",
    "x=roc_curve_values[0]\n",
    "y=roc_curve_values[1]\n",
    "plt.figure(dpi=150)\n",
    "plt.plot(x,y)\n",
    "plt.grid()\n",
    "plt.xlabel(\"False Positive Rate\")\n",
    "plt.ylabel(\"True Positive Rate\")\n",
    "plt.title(\"ROC Curve\")"
   ]
  },
  {
   "cell_type": "code",
   "execution_count": 567,
   "id": "formal-bicycle",
   "metadata": {},
   "outputs": [
    {
     "data": {
      "text/html": [
       "<div>\n",
       "<style scoped>\n",
       "    .dataframe tbody tr th:only-of-type {\n",
       "        vertical-align: middle;\n",
       "    }\n",
       "\n",
       "    .dataframe tbody tr th {\n",
       "        vertical-align: top;\n",
       "    }\n",
       "\n",
       "    .dataframe thead th {\n",
       "        text-align: right;\n",
       "    }\n",
       "</style>\n",
       "<table border=\"1\" class=\"dataframe\">\n",
       "  <thead>\n",
       "    <tr style=\"text-align: right;\">\n",
       "      <th></th>\n",
       "      <th>Parameter</th>\n",
       "      <th>Importance</th>\n",
       "    </tr>\n",
       "  </thead>\n",
       "  <tbody>\n",
       "    <tr>\n",
       "      <th>16</th>\n",
       "      <td>g1M</td>\n",
       "      <td>21.048030</td>\n",
       "    </tr>\n",
       "    <tr>\n",
       "      <th>20</th>\n",
       "      <td>h1R</td>\n",
       "      <td>14.305673</td>\n",
       "    </tr>\n",
       "    <tr>\n",
       "      <th>5</th>\n",
       "      <td>g_pcal_e</td>\n",
       "      <td>12.334317</td>\n",
       "    </tr>\n",
       "    <tr>\n",
       "      <th>17</th>\n",
       "      <td>g2M</td>\n",
       "      <td>9.924563</td>\n",
       "    </tr>\n",
       "    <tr>\n",
       "      <th>14</th>\n",
       "      <td>g1R</td>\n",
       "      <td>8.977349</td>\n",
       "    </tr>\n",
       "    <tr>\n",
       "      <th>10</th>\n",
       "      <td>g_pcal_m2u</td>\n",
       "      <td>5.571142</td>\n",
       "    </tr>\n",
       "    <tr>\n",
       "      <th>11</th>\n",
       "      <td>g_pcal_m2v</td>\n",
       "      <td>3.777195</td>\n",
       "    </tr>\n",
       "    <tr>\n",
       "      <th>2</th>\n",
       "      <td>gE</td>\n",
       "      <td>3.463714</td>\n",
       "    </tr>\n",
       "    <tr>\n",
       "      <th>15</th>\n",
       "      <td>g2R</td>\n",
       "      <td>3.351388</td>\n",
       "    </tr>\n",
       "    <tr>\n",
       "      <th>8</th>\n",
       "      <td>g_pcal_du</td>\n",
       "      <td>1.827898</td>\n",
       "    </tr>\n",
       "    <tr>\n",
       "      <th>9</th>\n",
       "      <td>g_pcal_dv</td>\n",
       "      <td>1.789793</td>\n",
       "    </tr>\n",
       "    <tr>\n",
       "      <th>21</th>\n",
       "      <td>h2R</td>\n",
       "      <td>1.776282</td>\n",
       "    </tr>\n",
       "    <tr>\n",
       "      <th>22</th>\n",
       "      <td>h1M</td>\n",
       "      <td>1.613840</td>\n",
       "    </tr>\n",
       "    <tr>\n",
       "      <th>18</th>\n",
       "      <td>g1dE</td>\n",
       "      <td>1.534734</td>\n",
       "    </tr>\n",
       "    <tr>\n",
       "      <th>3</th>\n",
       "      <td>gTheta</td>\n",
       "      <td>1.413937</td>\n",
       "    </tr>\n",
       "    <tr>\n",
       "      <th>25</th>\n",
       "      <td>h2dE</td>\n",
       "      <td>0.940683</td>\n",
       "    </tr>\n",
       "    <tr>\n",
       "      <th>0</th>\n",
       "      <td>nPhotons</td>\n",
       "      <td>0.878736</td>\n",
       "    </tr>\n",
       "    <tr>\n",
       "      <th>6</th>\n",
       "      <td>g1_pcal_e</td>\n",
       "      <td>0.697617</td>\n",
       "    </tr>\n",
       "    <tr>\n",
       "      <th>13</th>\n",
       "      <td>g_pcal_m3v</td>\n",
       "      <td>0.674049</td>\n",
       "    </tr>\n",
       "    <tr>\n",
       "      <th>28</th>\n",
       "      <td>eR</td>\n",
       "      <td>0.651935</td>\n",
       "    </tr>\n",
       "    <tr>\n",
       "      <th>30</th>\n",
       "      <td>edE</td>\n",
       "      <td>0.628204</td>\n",
       "    </tr>\n",
       "    <tr>\n",
       "      <th>26</th>\n",
       "      <td>h1q</td>\n",
       "      <td>0.508226</td>\n",
       "    </tr>\n",
       "    <tr>\n",
       "      <th>23</th>\n",
       "      <td>h2M</td>\n",
       "      <td>0.457393</td>\n",
       "    </tr>\n",
       "    <tr>\n",
       "      <th>29</th>\n",
       "      <td>eM</td>\n",
       "      <td>0.407588</td>\n",
       "    </tr>\n",
       "    <tr>\n",
       "      <th>19</th>\n",
       "      <td>g2dE</td>\n",
       "      <td>0.351863</td>\n",
       "    </tr>\n",
       "    <tr>\n",
       "      <th>12</th>\n",
       "      <td>g_pcal_m3u</td>\n",
       "      <td>0.351672</td>\n",
       "    </tr>\n",
       "    <tr>\n",
       "      <th>24</th>\n",
       "      <td>h1dE</td>\n",
       "      <td>0.222411</td>\n",
       "    </tr>\n",
       "    <tr>\n",
       "      <th>1</th>\n",
       "      <td>nHadrons</td>\n",
       "      <td>0.182389</td>\n",
       "    </tr>\n",
       "    <tr>\n",
       "      <th>7</th>\n",
       "      <td>g2_pcal_e</td>\n",
       "      <td>0.132264</td>\n",
       "    </tr>\n",
       "    <tr>\n",
       "      <th>4</th>\n",
       "      <td>gPhi</td>\n",
       "      <td>0.127648</td>\n",
       "    </tr>\n",
       "    <tr>\n",
       "      <th>27</th>\n",
       "      <td>h2q</td>\n",
       "      <td>0.077469</td>\n",
       "    </tr>\n",
       "  </tbody>\n",
       "</table>\n",
       "</div>"
      ],
      "text/plain": [
       "     Parameter  Importance\n",
       "16         g1M   21.048030\n",
       "20         h1R   14.305673\n",
       "5     g_pcal_e   12.334317\n",
       "17         g2M    9.924563\n",
       "14         g1R    8.977349\n",
       "10  g_pcal_m2u    5.571142\n",
       "11  g_pcal_m2v    3.777195\n",
       "2           gE    3.463714\n",
       "15         g2R    3.351388\n",
       "8    g_pcal_du    1.827898\n",
       "9    g_pcal_dv    1.789793\n",
       "21         h2R    1.776282\n",
       "22         h1M    1.613840\n",
       "18        g1dE    1.534734\n",
       "3       gTheta    1.413937\n",
       "25        h2dE    0.940683\n",
       "0     nPhotons    0.878736\n",
       "6    g1_pcal_e    0.697617\n",
       "13  g_pcal_m3v    0.674049\n",
       "28          eR    0.651935\n",
       "30         edE    0.628204\n",
       "26         h1q    0.508226\n",
       "23         h2M    0.457393\n",
       "29          eM    0.407588\n",
       "19        g2dE    0.351863\n",
       "12  g_pcal_m3u    0.351672\n",
       "24        h1dE    0.222411\n",
       "1     nHadrons    0.182389\n",
       "7    g2_pcal_e    0.132264\n",
       "4         gPhi    0.127648\n",
       "27         h2q    0.077469"
      ]
     },
     "execution_count": 567,
     "metadata": {},
     "output_type": "execute_result"
    }
   ],
   "source": [
    "dfPars = pd.DataFrame(data={\"Parameter\": X_train.columns,\"Importance\": model.get_feature_importance()})\n",
    "dfPars.sort_values(by=\"Importance\",ascending=False)"
   ]
  },
  {
   "cell_type": "code",
   "execution_count": 563,
   "id": "formal-dance",
   "metadata": {},
   "outputs": [
    {
     "data": {
      "text/plain": [
       "['g_pcal_e', 'g1M', 'h1R', 'g1R', 'g_pcal_m2u', 'g2M']"
      ]
     },
     "execution_count": 563,
     "metadata": {},
     "output_type": "execute_result"
    }
   ],
   "source": [
    "dfPars.sort_values(by=\"Importance\",ascending=False)[\"Parameter\"][:6].to_list()"
   ]
  },
  {
   "cell_type": "code",
   "execution_count": 564,
   "id": "floral-phone",
   "metadata": {},
   "outputs": [
    {
     "data": {
      "image/png": "[encoded data removed]",
      "text/plain": [
       "<Figure size 600x450 with 1 Axes>"
      ]
     },
     "metadata": {
      "needs_background": "light"
     },
     "output_type": "display_data"
    }
   ],
   "source": [
    "from catboost.utils import get_confusion_matrix\n",
    "import seaborn as sb\n",
    "%run ./toolkit/confusion_matrix.ipynb\n",
    "cm = get_confusion_matrix(model, Pool(X_validation,y_validation))\n",
    "categories = ['Bkg','Signal']\n",
    "make_confusion_matrix(cm, \n",
    "                      categories=categories,\n",
    "                      cmap='Blues',\n",
    "                     cbar=False,\n",
    "                     figsize=(4,3),\n",
    "                     count=False,\n",
    "                     title=\"Confusion Matrix\\n on validation set\")"
   ]
  },
  {
   "cell_type": "code",
   "execution_count": null,
   "id": "consecutive-virtue",
   "metadata": {},
   "outputs": [],
   "source": []
  }
 ],
 "metadata": {
  "kernelspec": {
   "display_name": "Python 3",
   "language": "python",
   "name": "python3"
  },
  "language_info": {
   "codemirror_mode": {
    "name": "ipython",
    "version": 3
   },
   "file_extension": ".py",
   "mimetype": "text/x-python",
   "name": "python",
   "nbconvert_exporter": "python",
   "pygments_lexer": "ipython3",
   "version": "3.8.6"
  }
 },
 "nbformat": 4,
 "nbformat_minor": 5
}
